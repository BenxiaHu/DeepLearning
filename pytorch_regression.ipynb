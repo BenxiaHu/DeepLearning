{
  "cells": [
    {
      "cell_type": "markdown",
      "metadata": {
        "id": "view-in-github",
        "colab_type": "text"
      },
      "source": [
        "<a href=\"https://colab.research.google.com/github/BenxiaHu/DeepLearning/blob/main/pytorch_regression.ipynb\" target=\"_parent\"><img src=\"https://colab.research.google.com/assets/colab-badge.svg\" alt=\"Open In Colab\"/></a>"
      ]
    },
    {
      "cell_type": "markdown",
      "metadata": {
        "id": "eBq3mzkxdACj"
      },
      "source": [
        "# linear regression\n",
        "\n",
        "\n",
        "Dependencies:\n",
        "* torch: 0.1.11\n",
        "* matplotlib"
      ]
    },
    {
      "cell_type": "code",
      "execution_count": 42,
      "metadata": {
        "id": "9xsj-IIHdACn"
      },
      "outputs": [],
      "source": [
        "import torch\n",
        "import math\n",
        "torch.manual_seed(1)\n",
        "dtype = torch.float\n",
        "#device = torch.device('cuda' if torch.cuda.is_available() else 'cpu')\n",
        "device = torch.device('cpu')\n",
        "\n",
        "class LinearRegression(torch.nn.Module):\n",
        "    def __init__(self):\n",
        "      super().__init__()\n",
        "      self.a = torch.nn.Parameter(torch.randn(()))\n",
        "      self.b = torch.nn.Parameter(torch.randn(()))\n",
        "      self.c = torch.nn.Parameter(torch.randn(()))\n",
        "      self.d = torch.nn.Parameter(torch.randn(()))\n",
        "      # self.linear = torch.nn.Linear(1,1)\n",
        "\n",
        "    def forward(self,x1,x2,x3):\n",
        "      # out = self.linear(x)\n",
        "      # return out\n",
        "      return self.a + self.b * x1 + self.c * x2 + self.d * x3\n",
        "\n",
        "    def string(self):\n",
        "      return f'y = {self.a.item()} + {self.b.item()} x1 + {self.c.item()} x2 + {self.d.item()} x3'\n",
        "\n",
        "  \n",
        "x1 = torch.linspace(-math.pi, math.pi, 2000, device=device, dtype=dtype)\n",
        "x2 = torch.linspace(0, math.pi, 2000, device=device, dtype=dtype) + 2\n",
        "x3 = torch.linspace(math.pi, 10,2000, device=device, dtype=dtype)\n",
        "X = torch.stack((x1,x2,x3),-1)\n",
        "print(X.shape)\n",
        "print(X)\n",
        "y = torch.linspace(10,100, 2000, device=device, dtype=dtype) * 10\n",
        "print(y.shape)\n",
        "print(y)\n",
        "# y = a*x1 + b*x2 + c*x3 + d\n",
        "model = LinearRegression()\n",
        "criterion = torch.nn.MSELoss(reduction='sum')\n",
        "learning_rate = 0.01\n",
        "optimizer = torch.optim.SGD(model.parameters(), lr=learning_rate)\n",
        "optimizer.zero_grad()\n",
        "\n",
        "while True:\n",
        "    # Forward pass: compute predicted y using operations on Tensors.\n",
        "    y_pred = model(x1,x2,x3)\n",
        "    # Compute and print loss using operations on Tensors.\n",
        "    # Now loss is a Tensor of shape (1,)\n",
        "    # loss.item() gets the scalar value held in the loss.\n",
        "    loss = criterion(y_pred, y)\n",
        "    # Zero the gradients before running the backward pass.\n",
        "    if(loss.item() < 0.1):\n",
        "        break\n",
        "    else:\n",
        "        optimizer.zero_grad()\n",
        "        loss.backward()\n",
        "        optimizer.step()\n",
        "print(y_pred)\n",
        "print(loss.item())\n",
        "print(f'Result: {model.string()}')\n",
        "\n",
        "\n"
      ]
    },
    {
      "cell_type": "code",
      "execution_count": null,
      "metadata": {
        "collapsed": true,
        "id": "nNExc586dACp"
      },
      "outputs": [],
      "source": []
    }
  ],
  "metadata": {
    "kernelspec": {
      "display_name": "Python 3",
      "language": "python",
      "name": "python3"
    },
    "language_info": {
      "codemirror_mode": {
        "name": "ipython",
        "version": 3
      },
      "file_extension": ".py",
      "mimetype": "text/x-python",
      "name": "python",
      "nbconvert_exporter": "python",
      "pygments_lexer": "ipython3",
      "version": "3.6.1"
    },
    "colab": {
      "provenance": [],
      "include_colab_link": true
    },
    "gpuClass": "standard"
  },
  "nbformat": 4,
  "nbformat_minor": 0
}