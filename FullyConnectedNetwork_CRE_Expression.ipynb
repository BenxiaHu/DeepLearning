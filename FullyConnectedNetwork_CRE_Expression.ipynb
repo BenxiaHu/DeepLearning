{
  "nbformat": 4,
  "nbformat_minor": 0,
  "metadata": {
    "colab": {
      "provenance": [],
      "authorship_tag": "ABX9TyNE18qx/BOrbb2udTjs4R4p",
      "include_colab_link": true
    },
    "kernelspec": {
      "name": "python3",
      "display_name": "Python 3"
    },
    "language_info": {
      "name": "python"
    },
    "accelerator": "GPU",
    "gpuClass": "standard"
  },
  "cells": [
    {
      "cell_type": "markdown",
      "metadata": {
        "id": "view-in-github",
        "colab_type": "text"
      },
      "source": [
        "<a href=\"https://colab.research.google.com/github/BenxiaHu/DeepLearning/blob/main/FullyConnectedNetwork_CRE_Expression.ipynb\" target=\"_parent\"><img src=\"https://colab.research.google.com/assets/colab-badge.svg\" alt=\"Open In Colab\"/></a>"
      ]
    },
    {
      "cell_type": "code",
      "execution_count": 34,
      "metadata": {
        "colab": {
          "base_uri": "https://localhost:8080/",
          "height": 350
        },
        "id": "W-j3SLlx8YCy",
        "outputId": "9e0344f5-c9c2-427b-ad31-67be96678076"
      },
      "outputs": [
        {
          "output_type": "stream",
          "name": "stdout",
          "text": [
            "Using device: cuda:0\n",
            "Epoch 0: Train Loss = 1.0474647283554077, Test Loss = 1.0012648105621338\n",
            "Epoch 10: Train Loss = 1.0169942378997803, Test Loss = 0.9986579418182373\n",
            "Epoch 20: Train Loss = 1.019635796546936, Test Loss = 0.9985882639884949\n"
          ]
        },
        {
          "output_type": "display_data",
          "data": {
            "text/plain": [
              "<Figure size 432x288 with 1 Axes>"
            ],
            "image/png": "[encoded data removed]"
          },
          "metadata": {
            "needs_background": "light"
          }
        }
      ],
      "source": [
        "import torch\n",
        "import torch.nn as nn\n",
        "import matplotlib.pyplot as plt\n",
        "import numpy as np\n",
        "# Set random seed for reproducibility\n",
        "torch.manual_seed(42)\n",
        "\n",
        "# Define the neural network architecture\n",
        "class MyNet(nn.Module):\n",
        "    def __init__(self):\n",
        "        super(MyNet, self).__init__()\n",
        "        self.fc1 = nn.Linear(4, 64)\n",
        "        # Set weight for connections from A to the first hidden layer\n",
        "        self.fc1.weight.data[:, 0] = abs(self.fc1.weight.data[:, 1])\n",
        "        # Set weight for connections from C to the first hidden layer\n",
        "        self.fc1.weight.data[:, 3] = abs(self.fc1.weight.data[:, 3])\n",
        "        # Set weight for connections from B to the first hidden layer\n",
        "        self.fc1.weight.data[:, 1] = abs(self.fc1.weight.data[:, 1]) * (-1)\n",
        "        # Set weight for connections from C to the first hidden layer\n",
        "        self.fc1.weight.data[:, 2] = abs(self.fc1.weight.data[:, 2]) * (-1)\n",
        "        self.fc2 = nn.Linear(64, 128)\n",
        "        self.fc3 = nn.Linear(128, 64)\n",
        "        self.fc4 = nn.Linear(64, 1)\n",
        "        self.relu = nn.ReLU()\n",
        "        self.dropout = nn.Dropout(p=0.5) # Dropout layer\n",
        "\n",
        "    def forward(self, A, B, C, D):\n",
        "        x = torch.cat((A, B, C, D), dim=1)\n",
        "        x = self.relu(self.fc1(x))\n",
        "        x = self.dropout(x)\n",
        "        x = self.relu(self.fc2(x))\n",
        "        x = self.dropout(x)\n",
        "        x = self.relu(self.fc3(x))\n",
        "        x = self.dropout(x)\n",
        "        x = self.fc4(x)\n",
        "        return x\n",
        "\n",
        "\n",
        "# Generate some dummy input and output data for testing\n",
        "A_train = torch.randn(7000, 1)\n",
        "#torch.is_tensor(A_train)\n",
        "B_train = torch.randn(7000, 1)\n",
        "C_train = torch.randn(7000, 1)\n",
        "D_train = torch.randn(7000, 1)\n",
        "E_train = torch.randn(7000, 1)\n",
        "\n",
        "A_test = torch.randn(3000, 1)\n",
        "B_test = torch.randn(3000, 1)\n",
        "C_test = torch.randn(3000, 1)\n",
        "D_test = torch.randn(3000, 1)\n",
        "E_test = torch.randn(3000, 1)\n",
        "\n",
        "# Move the data and the model to GPU if available\n",
        "device = torch.device(\"cuda:0\" if torch.cuda.is_available() else \"cpu\")\n",
        "print(\"Using device:\", device)\n",
        "model = MyNet().to(device)\n",
        "\n",
        "\n",
        "criterion = nn.MSELoss()\n",
        "optimizer = torch.optim.Adam(model.parameters(), lr=0.001)\n",
        "\n",
        "# Train the model\n",
        "train_losses = []\n",
        "test_losses = []\n",
        "\n",
        "\n",
        "for epoch in range(100):\n",
        "    # Train the model on the training data\n",
        "    model.train()\n",
        "    optimizer.zero_grad()\n",
        "    outputs = model(A_train.to(device), B_train.to(device), C_train.to(device), D_train.to(device))\n",
        "    train_loss = criterion(outputs, E_train.to(device))\n",
        "    train_loss.backward()\n",
        "    optimizer.step()\n",
        "    train_losses.append(train_loss.item())\n",
        "\n",
        "    # Evaluate the model on the test data\n",
        "    model.eval()\n",
        "    with torch.no_grad():\n",
        "        test_outputs = model(A_test.to(device), B_test.to(device), C_test.to(device), D_test.to(device))\n",
        "        test_loss = criterion(test_outputs, E_test.to(device))\n",
        "        test_losses.append(test_loss.item())\n",
        "\n",
        "        # Print the loss every 10 epochs\n",
        "        if epoch % 10 == 0:\n",
        "            print(f\"Epoch {epoch}: Train Loss = {train_loss.item()}, Test Loss = {test_loss.item()}\")\n",
        "        # check the loss is\n",
        "        # Check if the change in training loss is significant\n",
        "        if epoch > 1:\n",
        "            if abs(train_losses[-2] - train_losses[-1]) < 0.00001:\n",
        "                break\n",
        "\n",
        "# Plot the training and test losses over time\n",
        "plt.plot(train_losses, label='Train Loss')\n",
        "plt.plot(test_losses, label='Test Loss')\n",
        "plt.legend()\n",
        "plt.xlabel(\"# of epoch\")\n",
        "plt.ylabel(\"loss\")\n",
        "plt.show()\n",
        "\n",
        "#print(epoch)\n",
        "#print(train_losses)\n",
        "#train_losses[0]\n",
        "#(train_losses[-2] - train_losses[-1])"
      ]
    }
  ]
}