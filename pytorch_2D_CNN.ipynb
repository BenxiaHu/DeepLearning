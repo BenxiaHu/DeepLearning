{
  "nbformat": 4,
  "nbformat_minor": 0,
  "metadata": {
    "colab": {
      "provenance": [],
      "authorship_tag": "ABX9TyP+A6YJ0cIf9MKSztkDgYkz",
      "include_colab_link": true
    },
    "kernelspec": {
      "name": "python3",
      "display_name": "Python 3"
    },
    "language_info": {
      "name": "python"
    },
    "accelerator": "GPU",
    "gpuClass": "standard"
  },
  "cells": [
    {
      "cell_type": "markdown",
      "metadata": {
        "id": "view-in-github",
        "colab_type": "text"
      },
      "source": [
        "<a href=\"https://colab.research.google.com/github/BenxiaHu/DeepLearning/blob/main/pytorch_2D_CNN.ipynb\" target=\"_parent\"><img src=\"https://colab.research.google.com/assets/colab-badge.svg\" alt=\"Open In Colab\"/></a>"
      ]
    },
    {
      "cell_type": "markdown",
      "source": [],
      "metadata": {
        "id": "dJBlpMEuYtuf"
      }
    },
    {
      "cell_type": "markdown",
      "source": [
        "# Convolutional Neural Network\n",
        "\n",
        "\n",
        "Dependencies:\n",
        "* torch: 0.1.11\n",
        "* matplotlib"
      ],
      "metadata": {
        "id": "xt7e8o5FYwDV"
      }
    },
    {
      "cell_type": "markdown",
      "source": [
        "# step0: import python packages"
      ],
      "metadata": {
        "id": "ZiTV7aUDZq2F"
      }
    },
    {
      "cell_type": "code",
      "source": [
        "import torch\n",
        "import torch.nn as nn\n",
        "import torch.utils.data as Data\n",
        "from torch.autograd import Variable\n",
        "import matplotlib.pyplot as plt\n",
        "import torch.nn.functional as Fun\n",
        "from numpy import array\n",
        "import pandas as pd\n",
        "import numpy as np\n",
        "from numpy import argmax\n",
        "from sklearn.preprocessing import LabelEncoder\n",
        "from sklearn.preprocessing import OneHotEncoder\n",
        "import requests\n",
        "torch.manual_seed(1)\n"
      ],
      "metadata": {
        "colab": {
          "base_uri": "https://localhost:8080/"
        },
        "id": "BCJn2LrnY_Oz",
        "outputId": "a70df0fc-6a6d-4752-8171-73c320bc2820"
      },
      "execution_count": 44,
      "outputs": [
        {
          "output_type": "execute_result",
          "data": {
            "text/plain": [
              "<torch._C.Generator at 0x7efc0cd8b790>"
            ]
          },
          "metadata": {},
          "execution_count": 44
        }
      ]
    },
    {
      "cell_type": "markdown",
      "source": [
        "# step1: import data"
      ],
      "metadata": {
        "id": "7bEJ9iCYZxe6"
      }
    },
    {
      "cell_type": "code",
      "source": [
        "seqid=\"https://raw.githubusercontent.com/BenxiaHu/DeepLearning/main/sequences.txt\"\n",
        "labelid=\"https://raw.githubusercontent.com/BenxiaHu/DeepLearning/main/labels.txt\"\n",
        "input = pd.read_csv(seqid,header=None)\n",
        "label = pd.read_table(labelid,header=None)\n",
        "\n",
        "print(input)\n",
        "\n",
        "DNA = np.zeros(shape=(len(input),len(input[0][0]), 4))\n",
        "labelid = np.zeros(shape=(len(input),))\n",
        "print(DNA.shape)\n",
        "print(labelid.shape)\n",
        "\n",
        "for i in range(input.shape[0]):\n",
        "    i=0\n",
        "    seq_array = array(list(input[0][i]))\n",
        "    #integer encode the sequence\n",
        "    label_encoder = LabelEncoder()\n",
        "    integer_encoded_seq = label_encoder.fit_transform(seq_array)\n",
        "    #one hot the sequence\n",
        "    onehot_encoder = OneHotEncoder(sparse_output=False)\n",
        "    #reshape because that's what OneHotEncoder likes\n",
        "    integer_encoded_seq = integer_encoded_seq.reshape(len(integer_encoded_seq), 1)\n",
        "    onehot_encoded_seq = onehot_encoder.fit_transform(integer_encoded_seq)\n",
        "    DNA[i] = onehot_encoded_seq\n",
        "    labelid[i] = label[0][i]\n",
        "\n",
        "DNA = torch.tensor(DNA)\n",
        "labelid =  torch.tensor(labelid)\n",
        "device = torch.device('cuda' if torch.cuda.is_available() else 'cpu')\n",
        "if torch.cuda.is_available():\n",
        "    DNA = DNA.to(\"cuda:0\")\n",
        "    labelid =  labelid.to(\"cuda:0\")\n",
        "print(DNA.is_cuda)\n",
        "\n",
        "print(np.shape(DNA))"
      ],
      "metadata": {
        "colab": {
          "base_uri": "https://localhost:8080/"
        },
        "id": "hcsO9VnIZ5Sa",
        "outputId": "2eea47a6-c8b7-4316-c188-0a1732e1a90a"
      },
      "execution_count": 45,
      "outputs": [
        {
          "output_type": "stream",
          "name": "stdout",
          "text": [
            "torch.Size([2000, 50, 4])\n"
          ]
        }
      ]
    },
    {
      "cell_type": "markdown",
      "source": [
        "# step2: split the data into training, test and prediction data"
      ],
      "metadata": {
        "id": "mda3oRSQiziW"
      }
    },
    {
      "cell_type": "code",
      "source": [
        "input_tensor = DNA\n",
        "label_tensor = labelid\n",
        "# pick 1000 samples as training data\n",
        "print(input_tensor[0:1000].shape)\n",
        "print(label_tensor[0:1000].shape)\n",
        "torch_dataset = Data.TensorDataset(input_tensor[0:1000], label_tensor[0:1000])\n",
        "\n",
        "# Hyper Parameters\n",
        "EPOCH = 100              # train the training data n times, to save time, we just train 1 epoch\n",
        "BATCH_SIZE = 100\n",
        "LR = 0.01                # learning rate\n",
        "# Data Loader for easy mini-batch return in training, the image batch shape will be (100, 1, 50, 4)\n",
        "train_loader = Data.DataLoader(dataset=torch_dataset, batch_size=BATCH_SIZE, shuffle=True)\n",
        "#for i, j in enumerate(train_loader):\n",
        "    #x, y = j\n",
        "    #print('batch:{0} x:{1}  y: {2}'.format(i, x, y))\n",
        "    #print(x.shape)\n",
        "    #print(y.shape)\n",
        "\n",
        "# pick 600 samples as testing data\n",
        "# shape from (600, 50, 4) to (600, 1, 50, 4), value in range(0,1)\n",
        "test_x = Variable(torch.unsqueeze(input_tensor[1000:1600], dim=1)).type(torch.FloatTensor)[:1400]\n",
        "test_y = label_tensor[1000:1600]\n",
        "\n",
        "print(test_x.shape)\n",
        "print(test_y.shape)\n",
        "\n",
        "# pick 400 samples as prediction data\n",
        "test_x2 = Variable(torch.unsqueeze(input_tensor, dim=1)).type(torch.FloatTensor)[1600:2000]\n",
        "test_y2 = label_tensor[1600:2000]\n",
        "\n"
      ],
      "metadata": {
        "id": "lIn4WnALi6Bc"
      },
      "execution_count": 74,
      "outputs": []
    },
    {
      "cell_type": "markdown",
      "source": [
        "# step4: build the 1D-CNN model"
      ],
      "metadata": {
        "id": "2ipkZI_vvddy"
      }
    },
    {
      "cell_type": "code",
      "source": [
        "class CNN(nn.Module):\n",
        "    def __init__(self):\n",
        "        super(CNN, self).__init__()\n",
        "        self.conv1 = nn.Sequential(         # input shape (50, 1, 50, 4)\n",
        "            nn.Conv2d(\n",
        "                in_channels=1,              # input height\n",
        "                out_channels=16,            # n_filters\n",
        "                kernel_size=3,              # filter size\n",
        "                stride=1,                   # filter movement/step\n",
        "                padding=(1,2)                   # if want same width and length of this image after Conv2d, padding=(kernel_size-1)/2 if stride=1\n",
        "            ),                              # output shape (16, 50, 4)\n",
        "            nn.ReLU(),                      # activation\n",
        "            nn.MaxPool2d(\n",
        "                2,\n",
        "                stride=2,\n",
        "                padding=1)    # choose max value in 2x2 area, output shape (16, 25, 2)\n",
        "        )\n",
        "        self.conv2 = nn.Sequential(         # input shape (16, 25, 2)\n",
        "            nn.Conv2d(\n",
        "                in_channels=16,              # input height\n",
        "                out_channels=8,            # n_filters\n",
        "                kernel_size=3,              # filter size\n",
        "                stride=1,                   # filter movement/step\n",
        "                padding=(1,2)),                 # output shape (32, 27, 4)\n",
        "            nn.ReLU(),                      # activation\n",
        "            nn.MaxPool2d(2,2),                # output shape (32, 13, 3)\n",
        "        )\n",
        "        self.out = nn.Linear(8 * 13 * 3, 2)   # fully connected layer, output 2 classes\n",
        "    def forward(self, x):\n",
        "        x = self.conv1(x)\n",
        "        x = self.conv2(x)\n",
        "        x = x.view(x.size(0), -1)           # flatten the output of conv2 to (batch_size, 32, 12, 1))\n",
        "        output = self.out(x)\n",
        "        return output, x    # return x for visualization\n"
      ],
      "metadata": {
        "id": "clAfv5DQvc5c"
      },
      "execution_count": null,
      "outputs": []
    }
  ]
}